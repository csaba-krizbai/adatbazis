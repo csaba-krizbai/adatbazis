{
    "metadata": {
        "kernelspec": {
            "name": "SQL",
            "display_name": "SQL",
            "language": "sql"
        },
        "language_info": {
            "name": "sql",
            "version": ""
        }
    },
    "nbformat_minor": 2,
    "nbformat": 4,
    "cells": [
        {
            "cell_type": "code",
            "source": [
                "SELECT tipus, ROUND(AVG(csillagok_szama), 0) AS Átlag_csillag\r\n",
                "FROM szallashely\r\n",
                "WHERE tipus NOT LIKE 'Panzió'\r\n",
                "GROUP BY szallashely.tipus\r\n",
                "HAVING AVG(csillagok_szama)>=3"
            ],
            "metadata": {
                "azdata_cell_guid": "b099848f-82bb-4e7f-948b-7373b00e043e",
                "language": "sql"
            },
            "outputs": [
                {
                    "output_type": "display_data",
                    "data": {
                        "text/html": "(1 row affected)"
                    },
                    "metadata": {}
                },
                {
                    "output_type": "display_data",
                    "data": {
                        "text/html": "Total execution time: 00:00:00.020"
                    },
                    "metadata": {}
                },
                {
                    "output_type": "execute_result",
                    "metadata": {},
                    "execution_count": 2,
                    "data": {
                        "application/vnd.dataresource+json": {
                            "schema": {
                                "fields": [
                                    {
                                        "name": "tipus"
                                    },
                                    {
                                        "name": "Átlag_csillag"
                                    }
                                ]
                            },
                            "data": [
                                {
                                    "tipus": "Hotel",
                                    "Átlag_csillag": "3"
                                }
                            ]
                        },
                        "text/html": [
                            "<table>",
                            "<tr><th>tipus</th><th>Átlag_csillag</th></tr>",
                            "<tr><td>Hotel</td><td>3</td></tr>",
                            "</table>"
                        ]
                    }
                }
            ],
            "execution_count": 2
        },
        {
            "cell_type": "code",
            "source": [
                "SELECT Szoba.SZOBA_ID, YEAR(Foglalas.METTOL) AS Év, COUNT(*) AS Foglalások\r\n",
                "FROM Szoba JOIN Foglalas ON Foglalas.SZOBA_FK = Szoba.SZOBA_ID\r\n",
                "WHERE CAST(Szoba.SZOBA_SZAMA AS numeric) % 2 <> 0\r\n",
                "GROUP BY Szoba.SZOBA_ID, YEAR(Foglalas.METTOL)\r\n",
                "HAVING COUNT(*)>10"
            ],
            "metadata": {
                "azdata_cell_guid": "873ed33f-1473-4c04-a5e3-65ecbc74fa29",
                "language": "sql",
                "tags": []
            },
            "outputs": [
                {
                    "output_type": "display_data",
                    "data": {
                        "text/html": "(1 row affected)"
                    },
                    "metadata": {}
                },
                {
                    "output_type": "display_data",
                    "data": {
                        "text/html": "Total execution time: 00:00:00.005"
                    },
                    "metadata": {}
                },
                {
                    "output_type": "execute_result",
                    "metadata": {},
                    "execution_count": 10,
                    "data": {
                        "application/vnd.dataresource+json": {
                            "schema": {
                                "fields": [
                                    {
                                        "name": "SZOBA_ID"
                                    },
                                    {
                                        "name": "Év"
                                    },
                                    {
                                        "name": "Foglalások"
                                    }
                                ]
                            },
                            "data": [
                                {
                                    "SZOBA_ID": "58",
                                    "Év": "2016",
                                    "Foglalások": "12"
                                }
                            ]
                        },
                        "text/html": [
                            "<table>",
                            "<tr><th>SZOBA_ID</th><th>Év</th><th>Foglalások</th></tr>",
                            "<tr><td>58</td><td>2016</td><td>12</td></tr>",
                            "</table>"
                        ]
                    }
                }
            ],
            "execution_count": 10
        }
    ]
}