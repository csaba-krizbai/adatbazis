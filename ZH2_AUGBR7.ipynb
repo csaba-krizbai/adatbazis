{
    "metadata": {
        "kernelspec": {
            "name": "SQL",
            "display_name": "SQL",
            "language": "sql"
        },
        "language_info": {
            "name": "sql",
            "version": ""
        }
    },
    "nbformat_minor": 2,
    "nbformat": 4,
    "cells": [
        {
            "cell_type": "code",
            "source": [
                "SELECT IIF(GROUPING(SZOBA_FK) = 1, 'Összesen', CAST(SZOBA_FK AS nvarchar(5))) AS Szoba,COUNT(*) AS Foglalások\r\n",
                "FROM Foglalas\r\n",
                "WHERE FELNOTT_SZAM > GYERMEK_SZAM\r\n",
                "GROUP BY ROLLUP(SZOBA_FK)"
            ],
            "metadata": {
                "azdata_cell_guid": "1e3b074c-de69-46fd-9625-04b4e4e3999b",
                "language": "sql",
                "tags": []
            },
            "outputs": [
                {
                    "output_type": "display_data",
                    "data": {
                        "text/html": "(190 rows affected)"
                    },
                    "metadata": {}
                },
                {
                    "output_type": "display_data",
                    "data": {
                        "text/html": "Total execution time: 00:00:00.012"
                    },
                    "metadata": {}
                },
                {
                    "output_type": "execute_result",
                    "execution_count": 21,
                    "data": {
                        "application/vnd.dataresource+json": {
                            "schema": {
                                "fields": [
                                    {
                                        "name": "Szoba"
                                    },
                                    {
                                        "name": "Foglalások"
                                    }
                                ]
                            },
                            "data": [
                                {
                                    "Szoba": "1",
                                    "Foglalások": "7"
                                },
                                {
                                    "Szoba": "2",
                                    "Foglalások": "2"
                                },
                                {
                                    "Szoba": "3",
                                    "Foglalások": "3"
                                },
                                {
                                    "Szoba": "4",
                                    "Foglalások": "5"
                                },
                                {
                                    "Szoba": "5",
                                    "Foglalások": "2"
                                },
                                {
                                    "Szoba": "6",
                                    "Foglalások": "5"
                                },
                                {
                                    "Szoba": "7",
                                    "Foglalások": "6"
                                },
                                {
                                    "Szoba": "8",
                                    "Foglalások": "5"
                                },
                                {
                                    "Szoba": "9",
                                    "Foglalások": "4"
                                },
                                {
                                    "Szoba": "10",
                                    "Foglalások": "4"
                                },
                                {
                                    "Szoba": "11",
                                    "Foglalások": "4"
                                },
                                {
                                    "Szoba": "12",
                                    "Foglalások": "7"
                                },
                                {
                                    "Szoba": "13",
                                    "Foglalások": "4"
                                },
                                {
                                    "Szoba": "14",
                                    "Foglalások": "3"
                                },
                                {
                                    "Szoba": "15",
                                    "Foglalások": "4"
                                },
                                {
                                    "Szoba": "16",
                                    "Foglalások": "1"
                                },
                                {
                                    "Szoba": "17",
                                    "Foglalások": "2"
                                },
                                {
                                    "Szoba": "18",
                                    "Foglalások": "3"
                                },
                                {
                                    "Szoba": "19",
                                    "Foglalások": "4"
                                },
                                {
                                    "Szoba": "20",
                                    "Foglalások": "5"
                                },
                                {
                                    "Szoba": "21",
                                    "Foglalások": "1"
                                },
                                {
                                    "Szoba": "22",
                                    "Foglalások": "2"
                                },
                                {
                                    "Szoba": "23",
                                    "Foglalások": "3"
                                },
                                {
                                    "Szoba": "24",
                                    "Foglalások": "3"
                                },
                                {
                                    "Szoba": "25",
                                    "Foglalások": "1"
                                },
                                {
                                    "Szoba": "27",
                                    "Foglalások": "5"
                                },
                                {
                                    "Szoba": "28",
                                    "Foglalások": "5"
                                },
                                {
                                    "Szoba": "29",
                                    "Foglalások": "3"
                                },
                                {
                                    "Szoba": "30",
                                    "Foglalások": "2"
                                },
                                {
                                    "Szoba": "31",
                                    "Foglalások": "1"
                                },
                                {
                                    "Szoba": "32",
                                    "Foglalások": "1"
                                },
                                {
                                    "Szoba": "33",
                                    "Foglalások": "3"
                                },
                                {
                                    "Szoba": "34",
                                    "Foglalások": "3"
                                },
                                {
                                    "Szoba": "35",
                                    "Foglalások": "6"
                                },
                                {
                                    "Szoba": "36",
                                    "Foglalások": "4"
                                },
                                {
                                    "Szoba": "37",
                                    "Foglalások": "2"
                                },
                                {
                                    "Szoba": "38",
                                    "Foglalások": "5"
                                },
                                {
                                    "Szoba": "39",
                                    "Foglalások": "4"
                                },
                                {
                                    "Szoba": "40",
                                    "Foglalások": "3"
                                },
                                {
                                    "Szoba": "41",
                                    "Foglalások": "1"
                                },
                                {
                                    "Szoba": "42",
                                    "Foglalások": "5"
                                },
                                {
                                    "Szoba": "43",
                                    "Foglalások": "4"
                                },
                                {
                                    "Szoba": "44",
                                    "Foglalások": "6"
                                },
                                {
                                    "Szoba": "45",
                                    "Foglalások": "4"
                                },
                                {
                                    "Szoba": "46",
                                    "Foglalások": "3"
                                },
                                {
                                    "Szoba": "47",
                                    "Foglalások": "2"
                                },
                                {
                                    "Szoba": "48",
                                    "Foglalások": "6"
                                },
                                {
                                    "Szoba": "49",
                                    "Foglalások": "5"
                                },
                                {
                                    "Szoba": "50",
                                    "Foglalások": "3"
                                },
                                {
                                    "Szoba": "51",
                                    "Foglalások": "3"
                                },
                                {
                                    "Szoba": "52",
                                    "Foglalások": "5"
                                },
                                {
                                    "Szoba": "54",
                                    "Foglalások": "4"
                                },
                                {
                                    "Szoba": "55",
                                    "Foglalások": "3"
                                },
                                {
                                    "Szoba": "56",
                                    "Foglalások": "1"
                                },
                                {
                                    "Szoba": "57",
                                    "Foglalások": "3"
                                },
                                {
                                    "Szoba": "58",
                                    "Foglalások": "8"
                                },
                                {
                                    "Szoba": "59",
                                    "Foglalások": "4"
                                },
                                {
                                    "Szoba": "60",
                                    "Foglalások": "1"
                                },
                                {
                                    "Szoba": "61",
                                    "Foglalások": "4"
                                },
                                {
                                    "Szoba": "62",
                                    "Foglalások": "3"
                                },
                                {
                                    "Szoba": "63",
                                    "Foglalások": "3"
                                },
                                {
                                    "Szoba": "64",
                                    "Foglalások": "5"
                                },
                                {
                                    "Szoba": "66",
                                    "Foglalások": "3"
                                },
                                {
                                    "Szoba": "67",
                                    "Foglalások": "2"
                                },
                                {
                                    "Szoba": "69",
                                    "Foglalások": "2"
                                },
                                {
                                    "Szoba": "70",
                                    "Foglalások": "8"
                                },
                                {
                                    "Szoba": "71",
                                    "Foglalások": "2"
                                },
                                {
                                    "Szoba": "72",
                                    "Foglalások": "2"
                                },
                                {
                                    "Szoba": "73",
                                    "Foglalások": "4"
                                },
                                {
                                    "Szoba": "74",
                                    "Foglalások": "8"
                                },
                                {
                                    "Szoba": "75",
                                    "Foglalások": "2"
                                },
                                {
                                    "Szoba": "76",
                                    "Foglalások": "2"
                                },
                                {
                                    "Szoba": "77",
                                    "Foglalások": "3"
                                },
                                {
                                    "Szoba": "78",
                                    "Foglalások": "3"
                                },
                                {
                                    "Szoba": "79",
                                    "Foglalások": "4"
                                },
                                {
                                    "Szoba": "80",
                                    "Foglalások": "5"
                                },
                                {
                                    "Szoba": "81",
                                    "Foglalások": "3"
                                },
                                {
                                    "Szoba": "82",
                                    "Foglalások": "5"
                                },
                                {
                                    "Szoba": "83",
                                    "Foglalások": "5"
                                },
                                {
                                    "Szoba": "84",
                                    "Foglalások": "3"
                                },
                                {
                                    "Szoba": "85",
                                    "Foglalások": "2"
                                },
                                {
                                    "Szoba": "86",
                                    "Foglalások": "4"
                                },
                                {
                                    "Szoba": "87",
                                    "Foglalások": "5"
                                },
                                {
                                    "Szoba": "88",
                                    "Foglalások": "5"
                                },
                                {
                                    "Szoba": "89",
                                    "Foglalások": "8"
                                },
                                {
                                    "Szoba": "90",
                                    "Foglalások": "3"
                                },
                                {
                                    "Szoba": "91",
                                    "Foglalások": "2"
                                },
                                {
                                    "Szoba": "92",
                                    "Foglalások": "5"
                                },
                                {
                                    "Szoba": "93",
                                    "Foglalások": "3"
                                },
                                {
                                    "Szoba": "94",
                                    "Foglalások": "6"
                                },
                                {
                                    "Szoba": "95",
                                    "Foglalások": "3"
                                },
                                {
                                    "Szoba": "96",
                                    "Foglalások": "6"
                                },
                                {
                                    "Szoba": "97",
                                    "Foglalások": "5"
                                },
                                {
                                    "Szoba": "98",
                                    "Foglalások": "4"
                                },
                                {
                                    "Szoba": "99",
                                    "Foglalások": "4"
                                },
                                {
                                    "Szoba": "100",
                                    "Foglalások": "2"
                                },
                                {
                                    "Szoba": "101",
                                    "Foglalások": "1"
                                },
                                {
                                    "Szoba": "102",
                                    "Foglalások": "1"
                                },
                                {
                                    "Szoba": "103",
                                    "Foglalások": "1"
                                },
                                {
                                    "Szoba": "104",
                                    "Foglalások": "3"
                                },
                                {
                                    "Szoba": "106",
                                    "Foglalások": "4"
                                },
                                {
                                    "Szoba": "107",
                                    "Foglalások": "4"
                                },
                                {
                                    "Szoba": "108",
                                    "Foglalások": "1"
                                },
                                {
                                    "Szoba": "109",
                                    "Foglalások": "2"
                                },
                                {
                                    "Szoba": "110",
                                    "Foglalások": "5"
                                },
                                {
                                    "Szoba": "111",
                                    "Foglalások": "1"
                                },
                                {
                                    "Szoba": "112",
                                    "Foglalások": "4"
                                },
                                {
                                    "Szoba": "113",
                                    "Foglalások": "2"
                                },
                                {
                                    "Szoba": "114",
                                    "Foglalások": "1"
                                },
                                {
                                    "Szoba": "115",
                                    "Foglalások": "5"
                                },
                                {
                                    "Szoba": "117",
                                    "Foglalások": "4"
                                },
                                {
                                    "Szoba": "118",
                                    "Foglalások": "2"
                                },
                                {
                                    "Szoba": "119",
                                    "Foglalások": "4"
                                },
                                {
                                    "Szoba": "120",
                                    "Foglalások": "2"
                                },
                                {
                                    "Szoba": "121",
                                    "Foglalások": "5"
                                },
                                {
                                    "Szoba": "122",
                                    "Foglalások": "3"
                                },
                                {
                                    "Szoba": "123",
                                    "Foglalások": "5"
                                },
                                {
                                    "Szoba": "124",
                                    "Foglalások": "4"
                                },
                                {
                                    "Szoba": "126",
                                    "Foglalások": "4"
                                },
                                {
                                    "Szoba": "127",
                                    "Foglalások": "5"
                                },
                                {
                                    "Szoba": "129",
                                    "Foglalások": "3"
                                },
                                {
                                    "Szoba": "130",
                                    "Foglalások": "5"
                                },
                                {
                                    "Szoba": "131",
                                    "Foglalások": "4"
                                },
                                {
                                    "Szoba": "132",
                                    "Foglalások": "4"
                                },
                                {
                                    "Szoba": "133",
                                    "Foglalások": "4"
                                },
                                {
                                    "Szoba": "134",
                                    "Foglalások": "4"
                                },
                                {
                                    "Szoba": "135",
                                    "Foglalások": "3"
                                },
                                {
                                    "Szoba": "136",
                                    "Foglalások": "2"
                                },
                                {
                                    "Szoba": "137",
                                    "Foglalások": "2"
                                },
                                {
                                    "Szoba": "138",
                                    "Foglalások": "5"
                                },
                                {
                                    "Szoba": "139",
                                    "Foglalások": "6"
                                },
                                {
                                    "Szoba": "140",
                                    "Foglalások": "5"
                                },
                                {
                                    "Szoba": "141",
                                    "Foglalások": "4"
                                },
                                {
                                    "Szoba": "142",
                                    "Foglalások": "1"
                                },
                                {
                                    "Szoba": "143",
                                    "Foglalások": "5"
                                },
                                {
                                    "Szoba": "144",
                                    "Foglalások": "2"
                                },
                                {
                                    "Szoba": "145",
                                    "Foglalások": "2"
                                },
                                {
                                    "Szoba": "146",
                                    "Foglalások": "3"
                                },
                                {
                                    "Szoba": "147",
                                    "Foglalások": "1"
                                },
                                {
                                    "Szoba": "148",
                                    "Foglalások": "5"
                                },
                                {
                                    "Szoba": "149",
                                    "Foglalások": "5"
                                },
                                {
                                    "Szoba": "150",
                                    "Foglalások": "6"
                                },
                                {
                                    "Szoba": "151",
                                    "Foglalások": "2"
                                },
                                {
                                    "Szoba": "152",
                                    "Foglalások": "3"
                                },
                                {
                                    "Szoba": "153",
                                    "Foglalások": "4"
                                },
                                {
                                    "Szoba": "154",
                                    "Foglalások": "3"
                                },
                                {
                                    "Szoba": "155",
                                    "Foglalások": "3"
                                },
                                {
                                    "Szoba": "156",
                                    "Foglalások": "2"
                                },
                                {
                                    "Szoba": "157",
                                    "Foglalások": "2"
                                },
                                {
                                    "Szoba": "158",
                                    "Foglalások": "3"
                                },
                                {
                                    "Szoba": "160",
                                    "Foglalások": "2"
                                },
                                {
                                    "Szoba": "161",
                                    "Foglalások": "3"
                                },
                                {
                                    "Szoba": "162",
                                    "Foglalások": "2"
                                },
                                {
                                    "Szoba": "163",
                                    "Foglalások": "5"
                                },
                                {
                                    "Szoba": "164",
                                    "Foglalások": "4"
                                },
                                {
                                    "Szoba": "165",
                                    "Foglalások": "5"
                                },
                                {
                                    "Szoba": "166",
                                    "Foglalások": "3"
                                },
                                {
                                    "Szoba": "167",
                                    "Foglalások": "2"
                                },
                                {
                                    "Szoba": "168",
                                    "Foglalások": "1"
                                },
                                {
                                    "Szoba": "169",
                                    "Foglalások": "3"
                                },
                                {
                                    "Szoba": "170",
                                    "Foglalások": "3"
                                },
                                {
                                    "Szoba": "171",
                                    "Foglalások": "5"
                                },
                                {
                                    "Szoba": "172",
                                    "Foglalások": "6"
                                },
                                {
                                    "Szoba": "173",
                                    "Foglalások": "3"
                                },
                                {
                                    "Szoba": "174",
                                    "Foglalások": "4"
                                },
                                {
                                    "Szoba": "175",
                                    "Foglalások": "3"
                                },
                                {
                                    "Szoba": "176",
                                    "Foglalások": "2"
                                },
                                {
                                    "Szoba": "177",
                                    "Foglalások": "1"
                                },
                                {
                                    "Szoba": "178",
                                    "Foglalások": "1"
                                },
                                {
                                    "Szoba": "179",
                                    "Foglalások": "2"
                                },
                                {
                                    "Szoba": "180",
                                    "Foglalások": "1"
                                },
                                {
                                    "Szoba": "181",
                                    "Foglalások": "5"
                                },
                                {
                                    "Szoba": "182",
                                    "Foglalások": "11"
                                },
                                {
                                    "Szoba": "183",
                                    "Foglalások": "3"
                                },
                                {
                                    "Szoba": "184",
                                    "Foglalások": "4"
                                },
                                {
                                    "Szoba": "185",
                                    "Foglalások": "10"
                                },
                                {
                                    "Szoba": "186",
                                    "Foglalások": "1"
                                },
                                {
                                    "Szoba": "187",
                                    "Foglalások": "6"
                                },
                                {
                                    "Szoba": "188",
                                    "Foglalások": "2"
                                },
                                {
                                    "Szoba": "189",
                                    "Foglalások": "1"
                                },
                                {
                                    "Szoba": "190",
                                    "Foglalások": "5"
                                },
                                {
                                    "Szoba": "191",
                                    "Foglalások": "3"
                                },
                                {
                                    "Szoba": "192",
                                    "Foglalások": "1"
                                },
                                {
                                    "Szoba": "193",
                                    "Foglalások": "2"
                                },
                                {
                                    "Szoba": "194",
                                    "Foglalások": "1"
                                },
                                {
                                    "Szoba": "195",
                                    "Foglalások": "5"
                                },
                                {
                                    "Szoba": "196",
                                    "Foglalások": "2"
                                },
                                {
                                    "Szoba": "197",
                                    "Foglalások": "6"
                                },
                                {
                                    "Szoba": "198",
                                    "Foglalások": "7"
                                },
                                {
                                    "Szoba": "Összesen",
                                    "Foglalások": "668"
                                }
                            ]
                        },
                        "text/html": "<table><tr><th>Szoba</th><th>Foglalások</th></tr><tr><td>1</td><td>7</td></tr><tr><td>2</td><td>2</td></tr><tr><td>3</td><td>3</td></tr><tr><td>4</td><td>5</td></tr><tr><td>5</td><td>2</td></tr><tr><td>6</td><td>5</td></tr><tr><td>7</td><td>6</td></tr><tr><td>8</td><td>5</td></tr><tr><td>9</td><td>4</td></tr><tr><td>10</td><td>4</td></tr><tr><td>11</td><td>4</td></tr><tr><td>12</td><td>7</td></tr><tr><td>13</td><td>4</td></tr><tr><td>14</td><td>3</td></tr><tr><td>15</td><td>4</td></tr><tr><td>16</td><td>1</td></tr><tr><td>17</td><td>2</td></tr><tr><td>18</td><td>3</td></tr><tr><td>19</td><td>4</td></tr><tr><td>20</td><td>5</td></tr><tr><td>21</td><td>1</td></tr><tr><td>22</td><td>2</td></tr><tr><td>23</td><td>3</td></tr><tr><td>24</td><td>3</td></tr><tr><td>25</td><td>1</td></tr><tr><td>27</td><td>5</td></tr><tr><td>28</td><td>5</td></tr><tr><td>29</td><td>3</td></tr><tr><td>30</td><td>2</td></tr><tr><td>31</td><td>1</td></tr><tr><td>32</td><td>1</td></tr><tr><td>33</td><td>3</td></tr><tr><td>34</td><td>3</td></tr><tr><td>35</td><td>6</td></tr><tr><td>36</td><td>4</td></tr><tr><td>37</td><td>2</td></tr><tr><td>38</td><td>5</td></tr><tr><td>39</td><td>4</td></tr><tr><td>40</td><td>3</td></tr><tr><td>41</td><td>1</td></tr><tr><td>42</td><td>5</td></tr><tr><td>43</td><td>4</td></tr><tr><td>44</td><td>6</td></tr><tr><td>45</td><td>4</td></tr><tr><td>46</td><td>3</td></tr><tr><td>47</td><td>2</td></tr><tr><td>48</td><td>6</td></tr><tr><td>49</td><td>5</td></tr><tr><td>50</td><td>3</td></tr><tr><td>51</td><td>3</td></tr><tr><td>52</td><td>5</td></tr><tr><td>54</td><td>4</td></tr><tr><td>55</td><td>3</td></tr><tr><td>56</td><td>1</td></tr><tr><td>57</td><td>3</td></tr><tr><td>58</td><td>8</td></tr><tr><td>59</td><td>4</td></tr><tr><td>60</td><td>1</td></tr><tr><td>61</td><td>4</td></tr><tr><td>62</td><td>3</td></tr><tr><td>63</td><td>3</td></tr><tr><td>64</td><td>5</td></tr><tr><td>66</td><td>3</td></tr><tr><td>67</td><td>2</td></tr><tr><td>69</td><td>2</td></tr><tr><td>70</td><td>8</td></tr><tr><td>71</td><td>2</td></tr><tr><td>72</td><td>2</td></tr><tr><td>73</td><td>4</td></tr><tr><td>74</td><td>8</td></tr><tr><td>75</td><td>2</td></tr><tr><td>76</td><td>2</td></tr><tr><td>77</td><td>3</td></tr><tr><td>78</td><td>3</td></tr><tr><td>79</td><td>4</td></tr><tr><td>80</td><td>5</td></tr><tr><td>81</td><td>3</td></tr><tr><td>82</td><td>5</td></tr><tr><td>83</td><td>5</td></tr><tr><td>84</td><td>3</td></tr><tr><td>85</td><td>2</td></tr><tr><td>86</td><td>4</td></tr><tr><td>87</td><td>5</td></tr><tr><td>88</td><td>5</td></tr><tr><td>89</td><td>8</td></tr><tr><td>90</td><td>3</td></tr><tr><td>91</td><td>2</td></tr><tr><td>92</td><td>5</td></tr><tr><td>93</td><td>3</td></tr><tr><td>94</td><td>6</td></tr><tr><td>95</td><td>3</td></tr><tr><td>96</td><td>6</td></tr><tr><td>97</td><td>5</td></tr><tr><td>98</td><td>4</td></tr><tr><td>99</td><td>4</td></tr><tr><td>100</td><td>2</td></tr><tr><td>101</td><td>1</td></tr><tr><td>102</td><td>1</td></tr><tr><td>103</td><td>1</td></tr><tr><td>104</td><td>3</td></tr><tr><td>106</td><td>4</td></tr><tr><td>107</td><td>4</td></tr><tr><td>108</td><td>1</td></tr><tr><td>109</td><td>2</td></tr><tr><td>110</td><td>5</td></tr><tr><td>111</td><td>1</td></tr><tr><td>112</td><td>4</td></tr><tr><td>113</td><td>2</td></tr><tr><td>114</td><td>1</td></tr><tr><td>115</td><td>5</td></tr><tr><td>117</td><td>4</td></tr><tr><td>118</td><td>2</td></tr><tr><td>119</td><td>4</td></tr><tr><td>120</td><td>2</td></tr><tr><td>121</td><td>5</td></tr><tr><td>122</td><td>3</td></tr><tr><td>123</td><td>5</td></tr><tr><td>124</td><td>4</td></tr><tr><td>126</td><td>4</td></tr><tr><td>127</td><td>5</td></tr><tr><td>129</td><td>3</td></tr><tr><td>130</td><td>5</td></tr><tr><td>131</td><td>4</td></tr><tr><td>132</td><td>4</td></tr><tr><td>133</td><td>4</td></tr><tr><td>134</td><td>4</td></tr><tr><td>135</td><td>3</td></tr><tr><td>136</td><td>2</td></tr><tr><td>137</td><td>2</td></tr><tr><td>138</td><td>5</td></tr><tr><td>139</td><td>6</td></tr><tr><td>140</td><td>5</td></tr><tr><td>141</td><td>4</td></tr><tr><td>142</td><td>1</td></tr><tr><td>143</td><td>5</td></tr><tr><td>144</td><td>2</td></tr><tr><td>145</td><td>2</td></tr><tr><td>146</td><td>3</td></tr><tr><td>147</td><td>1</td></tr><tr><td>148</td><td>5</td></tr><tr><td>149</td><td>5</td></tr><tr><td>150</td><td>6</td></tr><tr><td>151</td><td>2</td></tr><tr><td>152</td><td>3</td></tr><tr><td>153</td><td>4</td></tr><tr><td>154</td><td>3</td></tr><tr><td>155</td><td>3</td></tr><tr><td>156</td><td>2</td></tr><tr><td>157</td><td>2</td></tr><tr><td>158</td><td>3</td></tr><tr><td>160</td><td>2</td></tr><tr><td>161</td><td>3</td></tr><tr><td>162</td><td>2</td></tr><tr><td>163</td><td>5</td></tr><tr><td>164</td><td>4</td></tr><tr><td>165</td><td>5</td></tr><tr><td>166</td><td>3</td></tr><tr><td>167</td><td>2</td></tr><tr><td>168</td><td>1</td></tr><tr><td>169</td><td>3</td></tr><tr><td>170</td><td>3</td></tr><tr><td>171</td><td>5</td></tr><tr><td>172</td><td>6</td></tr><tr><td>173</td><td>3</td></tr><tr><td>174</td><td>4</td></tr><tr><td>175</td><td>3</td></tr><tr><td>176</td><td>2</td></tr><tr><td>177</td><td>1</td></tr><tr><td>178</td><td>1</td></tr><tr><td>179</td><td>2</td></tr><tr><td>180</td><td>1</td></tr><tr><td>181</td><td>5</td></tr><tr><td>182</td><td>11</td></tr><tr><td>183</td><td>3</td></tr><tr><td>184</td><td>4</td></tr><tr><td>185</td><td>10</td></tr><tr><td>186</td><td>1</td></tr><tr><td>187</td><td>6</td></tr><tr><td>188</td><td>2</td></tr><tr><td>189</td><td>1</td></tr><tr><td>190</td><td>5</td></tr><tr><td>191</td><td>3</td></tr><tr><td>192</td><td>1</td></tr><tr><td>193</td><td>2</td></tr><tr><td>194</td><td>1</td></tr><tr><td>195</td><td>5</td></tr><tr><td>196</td><td>2</td></tr><tr><td>197</td><td>6</td></tr><tr><td>198</td><td>7</td></tr><tr><td>Összesen</td><td>668</td></tr></table>"
                    },
                    "metadata": {}
                }
            ],
            "execution_count": 21
        },
        {
            "cell_type": "code",
            "source": [
                "SELECT NEV\r\n",
                "FROM Vendeg\r\n",
                "WHERE USERNEV NOT IN (\r\n",
                "    SELECT v.USERNEV\r\n",
                "    FROM Vendeg v JOIN Foglalas f ON f.UGYFEL_FK=v.USERNEV\r\n",
                "    WHERE DATEDIFF(day, f.MEDDIG, f.METTOL) > 2\r\n",
                ")"
            ],
            "metadata": {
                "azdata_cell_guid": "753b5f5d-3836-420d-9ce9-60089cbfa0bb",
                "language": "sql"
            },
            "outputs": [
                {
                    "output_type": "display_data",
                    "data": {
                        "text/html": "(196 rows affected)"
                    },
                    "metadata": {}
                },
                {
                    "output_type": "display_data",
                    "data": {
                        "text/html": "Total execution time: 00:00:00.034"
                    },
                    "metadata": {}
                },
                {
                    "output_type": "execute_result",
                    "execution_count": 27,
                    "data": {
                        "application/vnd.dataresource+json": {
                            "schema": {
                                "fields": [
                                    {
                                        "name": "NEV"
                                    }
                                ]
                            },
                            "data": [
                                {
                                    "NEV": "Kiss Ádám"
                                },
                                {
                                    "NEV": "Barkóci Ádám"
                                },
                                {
                                    "NEV": "Bieniek Ádám"
                                },
                                {
                                    "NEV": "Lengyel Ágnes"
                                },
                                {
                                    "NEV": "Hartyánszky Ágnes"
                                },
                                {
                                    "NEV": "Horváth Ágnes"
                                },
                                {
                                    "NEV": "Kovács Ágnes"
                                },
                                {
                                    "NEV": "Bíró Ákos"
                                },
                                {
                                    "NEV": "Dunai Aladár"
                                },
                                {
                                    "NEV": "Bagóczki Alexandra"
                                },
                                {
                                    "NEV": "Maródi Andrea"
                                },
                                {
                                    "NEV": "Tóth András"
                                },
                                {
                                    "NEV": "Molnár András"
                                },
                                {
                                    "NEV": "Vígh András"
                                },
                                {
                                    "NEV": "Back András"
                                },
                                {
                                    "NEV": "Komjáti András"
                                },
                                {
                                    "NEV": "Erdei András"
                                },
                                {
                                    "NEV": "Nagy András"
                                },
                                {
                                    "NEV": "Kiss Andrea"
                                },
                                {
                                    "NEV": "Szomor Andrea"
                                },
                                {
                                    "NEV": "Neizer Andrea"
                                },
                                {
                                    "NEV": "Tornyos Andrea"
                                },
                                {
                                    "NEV": "Pivarcsi Anett"
                                },
                                {
                                    "NEV": "Tóth Anikó"
                                },
                                {
                                    "NEV": "Böröcz Anikó"
                                },
                                {
                                    "NEV": "Simon Anikó"
                                },
                                {
                                    "NEV": "Hamvay-Kovács Anita"
                                },
                                {
                                    "NEV": "Szűcs Annamária"
                                },
                                {
                                    "NEV": "Regős Annamária"
                                },
                                {
                                    "NEV": "Jakab Áron"
                                },
                                {
                                    "NEV": "Kelemen Áron"
                                },
                                {
                                    "NEV": "Ötvös Árpád"
                                },
                                {
                                    "NEV": "Horváth Árpád"
                                },
                                {
                                    "NEV": "Móricz Árpád"
                                },
                                {
                                    "NEV": "Csóti Attila"
                                },
                                {
                                    "NEV": "Gulyás Attila"
                                },
                                {
                                    "NEV": "Baróti Attila"
                                },
                                {
                                    "NEV": "Opra Attila"
                                },
                                {
                                    "NEV": "Bozsik Balázs"
                                },
                                {
                                    "NEV": "Szűcs Balázs"
                                },
                                {
                                    "NEV": "Bakódy Balázs"
                                },
                                {
                                    "NEV": "Horváth Bálint"
                                },
                                {
                                    "NEV": "Molnár Bálint"
                                },
                                {
                                    "NEV": "Vukasinovity Bálint"
                                },
                                {
                                    "NEV": "Endresz Bálint"
                                },
                                {
                                    "NEV": "Bagi Beáta"
                                },
                                {
                                    "NEV": "Kerényi Beatrix"
                                },
                                {
                                    "NEV": "Szekendi Beatrix"
                                },
                                {
                                    "NEV": "Farkas Béla"
                                },
                                {
                                    "NEV": "Győrffy Bence"
                                },
                                {
                                    "NEV": "Bajusz Bence"
                                },
                                {
                                    "NEV": "Simon Bernadett"
                                },
                                {
                                    "NEV": "Kovács Bernadett"
                                },
                                {
                                    "NEV": "Orbán Bernadett"
                                },
                                {
                                    "NEV": "Csiger Bertalan"
                                },
                                {
                                    "NEV": "Székely Brigitta"
                                },
                                {
                                    "NEV": "Pataki Brigitta"
                                },
                                {
                                    "NEV": "Nagymihály Csongor"
                                },
                                {
                                    "NEV": "Vörös Dániel"
                                },
                                {
                                    "NEV": "Rácz Dániel"
                                },
                                {
                                    "NEV": "Keszler Dániel"
                                },
                                {
                                    "NEV": "Ambrus Dávid"
                                },
                                {
                                    "NEV": "Sobják Dávid"
                                },
                                {
                                    "NEV": "Berta Dávid"
                                },
                                {
                                    "NEV": "Barna Debóra"
                                },
                                {
                                    "NEV": "Tömböly Dénes"
                                },
                                {
                                    "NEV": "Sarodi Dóra"
                                },
                                {
                                    "NEV": "Bittmann Edit"
                                },
                                {
                                    "NEV": "Kuruc Emese"
                                },
                                {
                                    "NEV": "Molnár Eszter"
                                },
                                {
                                    "NEV": "Balogh Eszter"
                                },
                                {
                                    "NEV": "Fülöp Eszter"
                                },
                                {
                                    "NEV": "Érsek Eszter"
                                },
                                {
                                    "NEV": "Enyedi Éva"
                                },
                                {
                                    "NEV": "Perlinger Éva"
                                },
                                {
                                    "NEV": "Viktor Éva"
                                },
                                {
                                    "NEV": "Orosz Ferenc"
                                },
                                {
                                    "NEV": "Frank Fruzsina"
                                },
                                {
                                    "NEV": "Köves Gábor"
                                },
                                {
                                    "NEV": "Telek Gábor"
                                },
                                {
                                    "NEV": "Szöllősi Gábor"
                                },
                                {
                                    "NEV": "Nagy Gabriella"
                                },
                                {
                                    "NEV": "Vida Gabriella"
                                },
                                {
                                    "NEV": "Nyíri Georgij"
                                },
                                {
                                    "NEV": "Bárci Gusztáv"
                                },
                                {
                                    "NEV": "Kornseé Gyöngyi"
                                },
                                {
                                    "NEV": "Oroszi György"
                                },
                                {
                                    "NEV": "Nádudvari Henrik"
                                },
                                {
                                    "NEV": "Andor Ibolya"
                                },
                                {
                                    "NEV": "Bosnyák Ilona"
                                },
                                {
                                    "NEV": "Búza Imre"
                                },
                                {
                                    "NEV": "Papp Imre"
                                },
                                {
                                    "NEV": "Soós István"
                                },
                                {
                                    "NEV": "Vizi István"
                                },
                                {
                                    "NEV": "Varga István"
                                },
                                {
                                    "NEV": "Harangozó János"
                                },
                                {
                                    "NEV": "Giliga János"
                                },
                                {
                                    "NEV": "Pálinkás János"
                                },
                                {
                                    "NEV": "Gergely József"
                                },
                                {
                                    "NEV": "Vajda József"
                                },
                                {
                                    "NEV": "Gyuris József"
                                },
                                {
                                    "NEV": "Hídasi Judit"
                                },
                                {
                                    "NEV": "Tóth Júlia"
                                },
                                {
                                    "NEV": "Nagy Júlia"
                                },
                                {
                                    "NEV": "Szabó Julianna"
                                },
                                {
                                    "NEV": "Gondos Katalin"
                                },
                                {
                                    "NEV": "Horváth Katalin"
                                },
                                {
                                    "NEV": "Kertész Katalin"
                                },
                                {
                                    "NEV": "Zatykó Katalin"
                                },
                                {
                                    "NEV": "Kovács Katalin"
                                },
                                {
                                    "NEV": "Bakó Klaudia"
                                },
                                {
                                    "NEV": "Lukács Kornél"
                                },
                                {
                                    "NEV": "Poprádi Kristóf"
                                },
                                {
                                    "NEV": "Horváth Krisztina"
                                },
                                {
                                    "NEV": "Czérna Krisztián"
                                },
                                {
                                    "NEV": "Mogyródi Krisztián"
                                },
                                {
                                    "NEV": "Szedlár Krisztina"
                                },
                                {
                                    "NEV": "Bori Krisztina"
                                },
                                {
                                    "NEV": "Gyárfás Krisztina"
                                },
                                {
                                    "NEV": "Kiss Lajos"
                                },
                                {
                                    "NEV": "Nagymihály Lajos"
                                },
                                {
                                    "NEV": "Farkas László"
                                },
                                {
                                    "NEV": "Móra László"
                                },
                                {
                                    "NEV": "Antal László"
                                },
                                {
                                    "NEV": "Nagy László"
                                },
                                {
                                    "NEV": "Baráth Mária"
                                },
                                {
                                    "NEV": "Kispál Márk"
                                },
                                {
                                    "NEV": "Horváth Márk"
                                },
                                {
                                    "NEV": "Kalacsi Márton"
                                },
                                {
                                    "NEV": "Koza Máté"
                                },
                                {
                                    "NEV": "Botka Mátyás"
                                },
                                {
                                    "NEV": "Szilágyi Mátyás"
                                },
                                {
                                    "NEV": "Juhász Mihály"
                                },
                                {
                                    "NEV": "Gondos Miklós"
                                },
                                {
                                    "NEV": "Balla Miklós"
                                },
                                {
                                    "NEV": "Mohos Mónika"
                                },
                                {
                                    "NEV": "Fő Nándor"
                                },
                                {
                                    "NEV": "Horváth Nikolett"
                                },
                                {
                                    "NEV": "Kő Nikoletta"
                                },
                                {
                                    "NEV": "Tatár Nikoletta"
                                },
                                {
                                    "NEV": "Szűcs Norbert"
                                },
                                {
                                    "NEV": "Hegedűs Norbert"
                                },
                                {
                                    "NEV": "Mile Norbert"
                                },
                                {
                                    "NEV": "Béres Norbert"
                                },
                                {
                                    "NEV": "Barabás Pál"
                                },
                                {
                                    "NEV": "Kozma Péter"
                                },
                                {
                                    "NEV": "Bozsó Péter"
                                },
                                {
                                    "NEV": "Szalai Péter"
                                },
                                {
                                    "NEV": "Bíró Péter"
                                },
                                {
                                    "NEV": "Berendi Péter"
                                },
                                {
                                    "NEV": "Palágyi Polla"
                                },
                                {
                                    "NEV": "Rácz Rajmond"
                                },
                                {
                                    "NEV": "Szikszai Réka"
                                },
                                {
                                    "NEV": "Kardos Renáta"
                                },
                                {
                                    "NEV": "Szirmai Renáta"
                                },
                                {
                                    "NEV": "Patay Róbert"
                                },
                                {
                                    "NEV": "Iván Róbert"
                                },
                                {
                                    "NEV": "Pásztor Róbert"
                                },
                                {
                                    "NEV": "Tóth Roland"
                                },
                                {
                                    "NEV": "Ferencz Roland"
                                },
                                {
                                    "NEV": "Bucskó Róza"
                                },
                                {
                                    "NEV": "Karasz Sándor"
                                },
                                {
                                    "NEV": "Farkas Sándor"
                                },
                                {
                                    "NEV": "Nagy Sándor"
                                },
                                {
                                    "NEV": "Farkas Sára"
                                },
                                {
                                    "NEV": "Foltényi Sebastián"
                                },
                                {
                                    "NEV": "Rab Sebestyén"
                                },
                                {
                                    "NEV": "Bodor Szabolcs"
                                },
                                {
                                    "NEV": "Miklós Szabolcs"
                                },
                                {
                                    "NEV": "Szalai Szilárd"
                                },
                                {
                                    "NEV": "Tari Szilvia"
                                },
                                {
                                    "NEV": "Miklós Tamara"
                                },
                                {
                                    "NEV": "Antal Tamás"
                                },
                                {
                                    "NEV": "Fényes Tamás"
                                },
                                {
                                    "NEV": "Gombos Tibor"
                                },
                                {
                                    "NEV": "Dániel Tibor"
                                },
                                {
                                    "NEV": "Kazy Tihamér"
                                },
                                {
                                    "NEV": "Papós Tímea"
                                },
                                {
                                    "NEV": "Dusha Tímea"
                                },
                                {
                                    "NEV": "Turcsik Tünde"
                                },
                                {
                                    "NEV": "Feró Valentin"
                                },
                                {
                                    "NEV": "Tankó Veronika"
                                },
                                {
                                    "NEV": "Urbán Viktoria"
                                },
                                {
                                    "NEV": "Keresztúri Viktor"
                                },
                                {
                                    "NEV": "Boros Vivien"
                                },
                                {
                                    "NEV": "Fodor Zoltán"
                                },
                                {
                                    "NEV": "Barna Zoltán"
                                },
                                {
                                    "NEV": "Pintér Zoltán"
                                },
                                {
                                    "NEV": "Tóth Zoltán"
                                },
                                {
                                    "NEV": "Molnár Zsófi"
                                },
                                {
                                    "NEV": "Pulai Zsolt"
                                },
                                {
                                    "NEV": "Józsa Zsolt"
                                },
                                {
                                    "NEV": "Pusztai Zsuzsanna"
                                },
                                {
                                    "NEV": "Varsányi Zsuzsa"
                                },
                                {
                                    "NEV": "Barta Zsuzsanna"
                                },
                                {
                                    "NEV": "Vajda Zsuzsa"
                                }
                            ]
                        },
                        "text/html": "<table><tr><th>NEV</th></tr><tr><td>Kiss Ádám</td></tr><tr><td>Barkóci Ádám</td></tr><tr><td>Bieniek Ádám</td></tr><tr><td>Lengyel Ágnes</td></tr><tr><td>Hartyánszky Ágnes</td></tr><tr><td>Horváth Ágnes</td></tr><tr><td>Kovács Ágnes</td></tr><tr><td>Bíró Ákos</td></tr><tr><td>Dunai Aladár</td></tr><tr><td>Bagóczki Alexandra</td></tr><tr><td>Maródi Andrea</td></tr><tr><td>Tóth András</td></tr><tr><td>Molnár András</td></tr><tr><td>Vígh András</td></tr><tr><td>Back András</td></tr><tr><td>Komjáti András</td></tr><tr><td>Erdei András</td></tr><tr><td>Nagy András</td></tr><tr><td>Kiss Andrea</td></tr><tr><td>Szomor Andrea</td></tr><tr><td>Neizer Andrea</td></tr><tr><td>Tornyos Andrea</td></tr><tr><td>Pivarcsi Anett</td></tr><tr><td>Tóth Anikó</td></tr><tr><td>Böröcz Anikó</td></tr><tr><td>Simon Anikó</td></tr><tr><td>Hamvay-Kovács Anita</td></tr><tr><td>Szűcs Annamária</td></tr><tr><td>Regős Annamária</td></tr><tr><td>Jakab Áron</td></tr><tr><td>Kelemen Áron</td></tr><tr><td>Ötvös Árpád</td></tr><tr><td>Horváth Árpád</td></tr><tr><td>Móricz Árpád</td></tr><tr><td>Csóti Attila</td></tr><tr><td>Gulyás Attila</td></tr><tr><td>Baróti Attila</td></tr><tr><td>Opra Attila</td></tr><tr><td>Bozsik Balázs</td></tr><tr><td>Szűcs Balázs</td></tr><tr><td>Bakódy Balázs</td></tr><tr><td>Horváth Bálint</td></tr><tr><td>Molnár Bálint</td></tr><tr><td>Vukasinovity Bálint</td></tr><tr><td>Endresz Bálint</td></tr><tr><td>Bagi Beáta</td></tr><tr><td>Kerényi Beatrix</td></tr><tr><td>Szekendi Beatrix</td></tr><tr><td>Farkas Béla</td></tr><tr><td>Győrffy Bence</td></tr><tr><td>Bajusz Bence</td></tr><tr><td>Simon Bernadett</td></tr><tr><td>Kovács Bernadett</td></tr><tr><td>Orbán Bernadett</td></tr><tr><td>Csiger Bertalan</td></tr><tr><td>Székely Brigitta</td></tr><tr><td>Pataki Brigitta</td></tr><tr><td>Nagymihály Csongor</td></tr><tr><td>Vörös Dániel</td></tr><tr><td>Rácz Dániel</td></tr><tr><td>Keszler Dániel</td></tr><tr><td>Ambrus Dávid</td></tr><tr><td>Sobják Dávid</td></tr><tr><td>Berta Dávid</td></tr><tr><td>Barna Debóra</td></tr><tr><td>Tömböly Dénes</td></tr><tr><td>Sarodi Dóra</td></tr><tr><td>Bittmann Edit</td></tr><tr><td>Kuruc Emese</td></tr><tr><td>Molnár Eszter</td></tr><tr><td>Balogh Eszter</td></tr><tr><td>Fülöp Eszter</td></tr><tr><td>Érsek Eszter</td></tr><tr><td>Enyedi Éva</td></tr><tr><td>Perlinger Éva</td></tr><tr><td>Viktor Éva</td></tr><tr><td>Orosz Ferenc</td></tr><tr><td>Frank Fruzsina</td></tr><tr><td>Köves Gábor</td></tr><tr><td>Telek Gábor</td></tr><tr><td>Szöllősi Gábor</td></tr><tr><td>Nagy Gabriella</td></tr><tr><td>Vida Gabriella</td></tr><tr><td>Nyíri Georgij</td></tr><tr><td>Bárci Gusztáv</td></tr><tr><td>Kornseé Gyöngyi</td></tr><tr><td>Oroszi György</td></tr><tr><td>Nádudvari Henrik</td></tr><tr><td>Andor Ibolya</td></tr><tr><td>Bosnyák Ilona</td></tr><tr><td>Búza Imre</td></tr><tr><td>Papp Imre</td></tr><tr><td>Soós István</td></tr><tr><td>Vizi István</td></tr><tr><td>Varga István</td></tr><tr><td>Harangozó János</td></tr><tr><td>Giliga János</td></tr><tr><td>Pálinkás János</td></tr><tr><td>Gergely József</td></tr><tr><td>Vajda József</td></tr><tr><td>Gyuris József</td></tr><tr><td>Hídasi Judit</td></tr><tr><td>Tóth Júlia</td></tr><tr><td>Nagy Júlia</td></tr><tr><td>Szabó Julianna</td></tr><tr><td>Gondos Katalin</td></tr><tr><td>Horváth Katalin</td></tr><tr><td>Kertész Katalin</td></tr><tr><td>Zatykó Katalin</td></tr><tr><td>Kovács Katalin</td></tr><tr><td>Bakó Klaudia</td></tr><tr><td>Lukács Kornél</td></tr><tr><td>Poprádi Kristóf</td></tr><tr><td>Horváth Krisztina</td></tr><tr><td>Czérna Krisztián</td></tr><tr><td>Mogyródi Krisztián</td></tr><tr><td>Szedlár Krisztina</td></tr><tr><td>Bori Krisztina</td></tr><tr><td>Gyárfás Krisztina</td></tr><tr><td>Kiss Lajos</td></tr><tr><td>Nagymihály Lajos</td></tr><tr><td>Farkas László</td></tr><tr><td>Móra László</td></tr><tr><td>Antal László</td></tr><tr><td>Nagy László</td></tr><tr><td>Baráth Mária</td></tr><tr><td>Kispál Márk</td></tr><tr><td>Horváth Márk</td></tr><tr><td>Kalacsi Márton</td></tr><tr><td>Koza Máté</td></tr><tr><td>Botka Mátyás</td></tr><tr><td>Szilágyi Mátyás</td></tr><tr><td>Juhász Mihály</td></tr><tr><td>Gondos Miklós</td></tr><tr><td>Balla Miklós</td></tr><tr><td>Mohos Mónika</td></tr><tr><td>Fő Nándor</td></tr><tr><td>Horváth Nikolett</td></tr><tr><td>Kő Nikoletta</td></tr><tr><td>Tatár Nikoletta</td></tr><tr><td>Szűcs Norbert</td></tr><tr><td>Hegedűs Norbert</td></tr><tr><td>Mile Norbert</td></tr><tr><td>Béres Norbert</td></tr><tr><td>Barabás Pál</td></tr><tr><td>Kozma Péter</td></tr><tr><td>Bozsó Péter</td></tr><tr><td>Szalai Péter</td></tr><tr><td>Bíró Péter</td></tr><tr><td>Berendi Péter</td></tr><tr><td>Palágyi Polla</td></tr><tr><td>Rácz Rajmond</td></tr><tr><td>Szikszai Réka</td></tr><tr><td>Kardos Renáta</td></tr><tr><td>Szirmai Renáta</td></tr><tr><td>Patay Róbert</td></tr><tr><td>Iván Róbert</td></tr><tr><td>Pásztor Róbert</td></tr><tr><td>Tóth Roland</td></tr><tr><td>Ferencz Roland</td></tr><tr><td>Bucskó Róza</td></tr><tr><td>Karasz Sándor</td></tr><tr><td>Farkas Sándor</td></tr><tr><td>Nagy Sándor</td></tr><tr><td>Farkas Sára</td></tr><tr><td>Foltényi Sebastián</td></tr><tr><td>Rab Sebestyén</td></tr><tr><td>Bodor Szabolcs</td></tr><tr><td>Miklós Szabolcs</td></tr><tr><td>Szalai Szilárd</td></tr><tr><td>Tari Szilvia</td></tr><tr><td>Miklós Tamara</td></tr><tr><td>Antal Tamás</td></tr><tr><td>Fényes Tamás</td></tr><tr><td>Gombos Tibor</td></tr><tr><td>Dániel Tibor</td></tr><tr><td>Kazy Tihamér</td></tr><tr><td>Papós Tímea</td></tr><tr><td>Dusha Tímea</td></tr><tr><td>Turcsik Tünde</td></tr><tr><td>Feró Valentin</td></tr><tr><td>Tankó Veronika</td></tr><tr><td>Urbán Viktoria</td></tr><tr><td>Keresztúri Viktor</td></tr><tr><td>Boros Vivien</td></tr><tr><td>Fodor Zoltán</td></tr><tr><td>Barna Zoltán</td></tr><tr><td>Pintér Zoltán</td></tr><tr><td>Tóth Zoltán</td></tr><tr><td>Molnár Zsófi</td></tr><tr><td>Pulai Zsolt</td></tr><tr><td>Józsa Zsolt</td></tr><tr><td>Pusztai Zsuzsanna</td></tr><tr><td>Varsányi Zsuzsa</td></tr><tr><td>Barta Zsuzsanna</td></tr><tr><td>Vajda Zsuzsa</td></tr></table>"
                    },
                    "metadata": {}
                }
            ],
            "execution_count": 27
        }
    ]
}